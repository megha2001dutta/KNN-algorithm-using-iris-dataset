{
 "cells": [
  {
   "cell_type": "code",
   "execution_count": 4,
   "id": "dab1e579",
   "metadata": {},
   "outputs": [],
   "source": [
    "import matplotlib.pyplot as plt\n",
    "import numpy as np\n",
    "import pandas as pd\n",
    "import seaborn as sns\n",
    "\n",
    "from sklearn import datasets\n",
    "from sklearn.model_selection import train_test_split , KFold\n",
    "from sklearn.preprocessing import Normalizer\n",
    "from sklearn.metrics import accuracy_score\n",
    "from sklearn.neighbors import KNeighborsClassifier\n",
    "\n",
    "from collections import Counter"
   ]
  },
  {
   "cell_type": "code",
   "execution_count": 5,
   "id": "0321ecde",
   "metadata": {},
   "outputs": [],
   "source": [
    "iris_dataset=pd.read_excel('Iris.xls')"
   ]
  },
  {
   "cell_type": "code",
   "execution_count": 6,
   "id": "897f5ff8",
   "metadata": {},
   "outputs": [
    {
     "data": {
      "text/html": [
       "<div>\n",
       "<style scoped>\n",
       "    .dataframe tbody tr th:only-of-type {\n",
       "        vertical-align: middle;\n",
       "    }\n",
       "\n",
       "    .dataframe tbody tr th {\n",
       "        vertical-align: top;\n",
       "    }\n",
       "\n",
       "    .dataframe thead th {\n",
       "        text-align: right;\n",
       "    }\n",
       "</style>\n",
       "<table border=\"1\" class=\"dataframe\">\n",
       "  <thead>\n",
       "    <tr style=\"text-align: right;\">\n",
       "      <th></th>\n",
       "      <th>Species_No</th>\n",
       "      <th>Petal_width</th>\n",
       "      <th>Petal_length</th>\n",
       "      <th>Sepal_width</th>\n",
       "      <th>Sepal_length</th>\n",
       "      <th>Species_name</th>\n",
       "    </tr>\n",
       "  </thead>\n",
       "  <tbody>\n",
       "    <tr>\n",
       "      <th>0</th>\n",
       "      <td>1</td>\n",
       "      <td>0.2</td>\n",
       "      <td>1.4</td>\n",
       "      <td>3.5</td>\n",
       "      <td>5.1</td>\n",
       "      <td>Setosa</td>\n",
       "    </tr>\n",
       "    <tr>\n",
       "      <th>1</th>\n",
       "      <td>1</td>\n",
       "      <td>0.2</td>\n",
       "      <td>1.4</td>\n",
       "      <td>3.0</td>\n",
       "      <td>4.9</td>\n",
       "      <td>Setosa</td>\n",
       "    </tr>\n",
       "    <tr>\n",
       "      <th>2</th>\n",
       "      <td>1</td>\n",
       "      <td>0.2</td>\n",
       "      <td>1.3</td>\n",
       "      <td>3.2</td>\n",
       "      <td>4.7</td>\n",
       "      <td>Setosa</td>\n",
       "    </tr>\n",
       "    <tr>\n",
       "      <th>3</th>\n",
       "      <td>1</td>\n",
       "      <td>0.2</td>\n",
       "      <td>1.5</td>\n",
       "      <td>3.1</td>\n",
       "      <td>4.6</td>\n",
       "      <td>Setosa</td>\n",
       "    </tr>\n",
       "    <tr>\n",
       "      <th>4</th>\n",
       "      <td>1</td>\n",
       "      <td>0.2</td>\n",
       "      <td>1.4</td>\n",
       "      <td>3.6</td>\n",
       "      <td>5.0</td>\n",
       "      <td>Setosa</td>\n",
       "    </tr>\n",
       "    <tr>\n",
       "      <th>...</th>\n",
       "      <td>...</td>\n",
       "      <td>...</td>\n",
       "      <td>...</td>\n",
       "      <td>...</td>\n",
       "      <td>...</td>\n",
       "      <td>...</td>\n",
       "    </tr>\n",
       "    <tr>\n",
       "      <th>145</th>\n",
       "      <td>3</td>\n",
       "      <td>2.3</td>\n",
       "      <td>5.2</td>\n",
       "      <td>3.0</td>\n",
       "      <td>6.7</td>\n",
       "      <td>Verginica</td>\n",
       "    </tr>\n",
       "    <tr>\n",
       "      <th>146</th>\n",
       "      <td>3</td>\n",
       "      <td>1.9</td>\n",
       "      <td>5.0</td>\n",
       "      <td>2.5</td>\n",
       "      <td>6.3</td>\n",
       "      <td>Verginica</td>\n",
       "    </tr>\n",
       "    <tr>\n",
       "      <th>147</th>\n",
       "      <td>3</td>\n",
       "      <td>2.0</td>\n",
       "      <td>5.2</td>\n",
       "      <td>3.0</td>\n",
       "      <td>6.5</td>\n",
       "      <td>Verginica</td>\n",
       "    </tr>\n",
       "    <tr>\n",
       "      <th>148</th>\n",
       "      <td>3</td>\n",
       "      <td>2.3</td>\n",
       "      <td>5.4</td>\n",
       "      <td>3.4</td>\n",
       "      <td>6.2</td>\n",
       "      <td>Verginica</td>\n",
       "    </tr>\n",
       "    <tr>\n",
       "      <th>149</th>\n",
       "      <td>3</td>\n",
       "      <td>1.8</td>\n",
       "      <td>5.1</td>\n",
       "      <td>3.0</td>\n",
       "      <td>5.9</td>\n",
       "      <td>Verginica</td>\n",
       "    </tr>\n",
       "  </tbody>\n",
       "</table>\n",
       "<p>150 rows × 6 columns</p>\n",
       "</div>"
      ],
      "text/plain": [
       "     Species_No  Petal_width  Petal_length  Sepal_width  Sepal_length  \\\n",
       "0             1          0.2           1.4          3.5           5.1   \n",
       "1             1          0.2           1.4          3.0           4.9   \n",
       "2             1          0.2           1.3          3.2           4.7   \n",
       "3             1          0.2           1.5          3.1           4.6   \n",
       "4             1          0.2           1.4          3.6           5.0   \n",
       "..          ...          ...           ...          ...           ...   \n",
       "145           3          2.3           5.2          3.0           6.7   \n",
       "146           3          1.9           5.0          2.5           6.3   \n",
       "147           3          2.0           5.2          3.0           6.5   \n",
       "148           3          2.3           5.4          3.4           6.2   \n",
       "149           3          1.8           5.1          3.0           5.9   \n",
       "\n",
       "    Species_name  \n",
       "0         Setosa  \n",
       "1         Setosa  \n",
       "2         Setosa  \n",
       "3         Setosa  \n",
       "4         Setosa  \n",
       "..           ...  \n",
       "145    Verginica  \n",
       "146    Verginica  \n",
       "147    Verginica  \n",
       "148    Verginica  \n",
       "149    Verginica  \n",
       "\n",
       "[150 rows x 6 columns]"
      ]
     },
     "execution_count": 6,
     "metadata": {},
     "output_type": "execute_result"
    }
   ],
   "source": [
    "iris_dataset"
   ]
  },
  {
   "cell_type": "code",
   "execution_count": 8,
   "id": "db63e64f",
   "metadata": {},
   "outputs": [],
   "source": [
    "x= iris_dataset.iloc[:, :-1]\n",
    "y= iris_dataset.iloc[:, -1]"
   ]
  },
  {
   "cell_type": "code",
   "execution_count": 9,
   "id": "b73c89df",
   "metadata": {},
   "outputs": [
    {
     "data": {
      "text/html": [
       "<div>\n",
       "<style scoped>\n",
       "    .dataframe tbody tr th:only-of-type {\n",
       "        vertical-align: middle;\n",
       "    }\n",
       "\n",
       "    .dataframe tbody tr th {\n",
       "        vertical-align: top;\n",
       "    }\n",
       "\n",
       "    .dataframe thead th {\n",
       "        text-align: right;\n",
       "    }\n",
       "</style>\n",
       "<table border=\"1\" class=\"dataframe\">\n",
       "  <thead>\n",
       "    <tr style=\"text-align: right;\">\n",
       "      <th></th>\n",
       "      <th>Species_No</th>\n",
       "      <th>Petal_width</th>\n",
       "      <th>Petal_length</th>\n",
       "      <th>Sepal_width</th>\n",
       "      <th>Sepal_length</th>\n",
       "    </tr>\n",
       "  </thead>\n",
       "  <tbody>\n",
       "    <tr>\n",
       "      <th>0</th>\n",
       "      <td>1</td>\n",
       "      <td>0.2</td>\n",
       "      <td>1.4</td>\n",
       "      <td>3.5</td>\n",
       "      <td>5.1</td>\n",
       "    </tr>\n",
       "    <tr>\n",
       "      <th>1</th>\n",
       "      <td>1</td>\n",
       "      <td>0.2</td>\n",
       "      <td>1.4</td>\n",
       "      <td>3.0</td>\n",
       "      <td>4.9</td>\n",
       "    </tr>\n",
       "    <tr>\n",
       "      <th>2</th>\n",
       "      <td>1</td>\n",
       "      <td>0.2</td>\n",
       "      <td>1.3</td>\n",
       "      <td>3.2</td>\n",
       "      <td>4.7</td>\n",
       "    </tr>\n",
       "    <tr>\n",
       "      <th>3</th>\n",
       "      <td>1</td>\n",
       "      <td>0.2</td>\n",
       "      <td>1.5</td>\n",
       "      <td>3.1</td>\n",
       "      <td>4.6</td>\n",
       "    </tr>\n",
       "    <tr>\n",
       "      <th>4</th>\n",
       "      <td>1</td>\n",
       "      <td>0.2</td>\n",
       "      <td>1.4</td>\n",
       "      <td>3.6</td>\n",
       "      <td>5.0</td>\n",
       "    </tr>\n",
       "  </tbody>\n",
       "</table>\n",
       "</div>"
      ],
      "text/plain": [
       "   Species_No  Petal_width  Petal_length  Sepal_width  Sepal_length\n",
       "0           1          0.2           1.4          3.5           5.1\n",
       "1           1          0.2           1.4          3.0           4.9\n",
       "2           1          0.2           1.3          3.2           4.7\n",
       "3           1          0.2           1.5          3.1           4.6\n",
       "4           1          0.2           1.4          3.6           5.0"
      ]
     },
     "execution_count": 9,
     "metadata": {},
     "output_type": "execute_result"
    }
   ],
   "source": [
    "x.head()"
   ]
  },
  {
   "cell_type": "code",
   "execution_count": 10,
   "id": "2e4a288a",
   "metadata": {},
   "outputs": [
    {
     "data": {
      "text/plain": [
       "0     Setosa\n",
       "1     Setosa\n",
       "2     Setosa\n",
       "3     Setosa\n",
       "4     Setosa\n",
       "Name: Species_name, dtype: object"
      ]
     },
     "execution_count": 10,
     "metadata": {},
     "output_type": "execute_result"
    }
   ],
   "source": [
    "y.head()"
   ]
  },
  {
   "cell_type": "code",
   "execution_count": 11,
   "id": "8f175e6f",
   "metadata": {},
   "outputs": [],
   "source": [
    "# split the data into train and test sets\n",
    "x_train, x_test, y_train, y_test= train_test_split(x, y,\n",
    "                                                   test_size= 0.2,\n",
    "                                                   shuffle= True, #shuffle the data to avoid bias\n",
    "                                                   random_state= 0)\n",
    "x_train= np.asarray(x_train)\n",
    "y_train= np.asarray(y_train)\n",
    "\n",
    "x_test= np.asarray(x_test)\n",
    "y_test= np.asarray(y_test)"
   ]
  },
  {
   "cell_type": "code",
   "execution_count": 12,
   "id": "3600e672",
   "metadata": {},
   "outputs": [
    {
     "name": "stdout",
     "output_type": "stream",
     "text": [
      "training set size: 120 samples \n",
      "test set size: 30 samples\n"
     ]
    }
   ],
   "source": [
    "print(f'training set size: {x_train.shape[0]} samples \\ntest set size: {x_test.shape[0]} samples')"
   ]
  },
  {
   "cell_type": "markdown",
   "id": "6ca12c0f",
   "metadata": {},
   "source": [
    "#Normalize the dataset"
   ]
  },
  {
   "cell_type": "code",
   "execution_count": 13,
   "id": "6d5aaa11",
   "metadata": {},
   "outputs": [],
   "source": [
    "scaler= Normalizer().fit(x_train)\n",
    "normalized_x_train= scaler.transform(x_train)\n",
    "normalized_x_test= scaler.transform(x_test) "
   ]
  },
  {
   "cell_type": "code",
   "execution_count": 18,
   "id": "f5c575cd",
   "metadata": {},
   "outputs": [
    {
     "name": "stdout",
     "output_type": "stream",
     "text": [
      "x train before Normalization\n",
      "[[3.  1.8 5.5 3.1 6.4]\n",
      " [2.  1.5 4.5 3.  5.4]\n",
      " [1.  0.2 1.5 3.5 5.2]\n",
      " [3.  1.8 4.9 3.  6.1]\n",
      " [3.  2.2 5.6 2.8 6.4]]\n",
      "\n",
      "x train after Normalization\n",
      "[[0.31098521 0.18659112 0.57013955 0.32135138 0.66343511]\n",
      " [0.24872082 0.18654062 0.55962185 0.37308123 0.67154622]\n",
      " [0.15324883 0.03064977 0.22987325 0.53637091 0.79689392]\n",
      " [0.33036923 0.19822154 0.53960307 0.33036923 0.67175077]\n",
      " [0.30942637 0.22691267 0.5775959  0.28879795 0.6601096 ]]\n"
     ]
    }
   ],
   "source": [
    "print('x train before Normalization')\n",
    "print(x_train[0:5])\n",
    "print('\\nx train after Normalization')\n",
    "print(normalized_x_train[0:5])"
   ]
  },
  {
   "cell_type": "markdown",
   "id": "f3c88764",
   "metadata": {},
   "source": [
    "#Visualize the Dataset before and after Normalization"
   ]
  },
  {
   "cell_type": "markdown",
   "id": "9ab93821",
   "metadata": {},
   "source": [
    "#KNN Step 1 (Euclidean Distance)"
   ]
  },
  {
   "cell_type": "code",
   "execution_count": 19,
   "id": "aa0ac873",
   "metadata": {},
   "outputs": [],
   "source": [
    "def distance_ecu(x_train, x_test_point):\n",
    "  \"\"\"\n",
    "  Input:\n",
    "    - x_train: corresponding to the training data\n",
    "    - x_test_point: corresponding to the test point\n",
    "\n",
    "  Output:\n",
    "    -distances: The distances between the test point and each point in the training data.\n",
    "\n",
    "  \"\"\"\n",
    "  distances= []  ## create empty list called distances\n",
    "  for row in range(len(x_train)): ## Loop over the rows of x_train\n",
    "      current_train_point= x_train[row] #Get them point by point\n",
    "      current_distance= 0 ## initialize the distance by zero\n",
    "\n",
    "      for col in range(len(current_train_point)): ## Loop over the columns of the row\n",
    "          \n",
    "          current_distance += (current_train_point[col] - x_test_point[col]) **2\n",
    "          ## Or current_distance = current_distance + (x_train[i] - x_test_point[i])**2\n",
    "      current_distance= np.sqrt(current_distance)\n",
    "\n",
    "      distances.append(current_distance) ## Append the distances\n",
    "\n",
    "  # Store distances in a dataframe\n",
    "  distances= pd.DataFrame(data=distances,columns=['dist'])\n",
    "  return distances\n"
   ]
  },
  {
   "cell_type": "markdown",
   "id": "ba20c5db",
   "metadata": {},
   "source": [
    "#KNN Step 2 (Find the nearest neighbors)"
   ]
  },
  {
   "cell_type": "code",
   "execution_count": 20,
   "id": "b4a150f1",
   "metadata": {},
   "outputs": [],
   "source": [
    "def nearest_neighbors(distance_point, K):\n",
    "    \"\"\"\n",
    "    Input:\n",
    "        -distance_point: the distances between the test point and each point in the training data.\n",
    "        -K             : the number of neighbors\n",
    "\n",
    "    Output:\n",
    "        -df_nearest: the nearest K neighbors between the test point and the training data.\n",
    "\n",
    "    \"\"\"\n",
    "\n",
    "    # Sort values using the sort_values function\n",
    "    df_nearest= distance_point.sort_values(by=['dist'], axis=0)\n",
    "\n",
    "    ## Take only the first K neighbors\n",
    "    df_nearest= df_nearest[:K]\n",
    "    return df_nearest\n"
   ]
  },
  {
   "cell_type": "markdown",
   "id": "2c2067df",
   "metadata": {},
   "source": [
    "##KNN Step 3 (Classify the point based on a majority vote)"
   ]
  },
  {
   "cell_type": "code",
   "execution_count": 21,
   "id": "08126917",
   "metadata": {},
   "outputs": [],
   "source": [
    "def voting(df_nearest, y_train):\n",
    "    \"\"\"\n",
    "    Input:\n",
    "        -df_nearest: dataframe contains the nearest K neighbors between the full training dataset and the test point.\n",
    "        -y_train: the labels of the training dataset.\n",
    "\n",
    "    Output:\n",
    "        -y_pred: the prediction based on Majority Voting\n",
    "\n",
    "    \"\"\"\n",
    "\n",
    "    ## Use the Counter Object to get the labels with K nearest neighbors.\n",
    "    counter_vote= Counter(y_train[df_nearest.index])\n",
    "\n",
    "    y_pred= counter_vote.most_common()[0][0]   # Majority Voting\n",
    "\n",
    "    return y_pred\n",
    "#KNN Full Algorithm: Putting Everything Together\n",
    "\n",
    "def KNN_from_scratch(x_train, y_train, x_test, K):\n",
    "\n",
    "    \"\"\"\n",
    "    Input:\n",
    "    -x_train: the full training dataset\n",
    "    -y_train: the labels of the training dataset\n",
    "    -x_test: the full test dataset\n",
    "    -K: the number of neighbors\n",
    "\n",
    "    Output:\n",
    "    -y_pred: the prediction for the whole test set based on Majority Voting.\n",
    "\n",
    "    \"\"\"\n",
    "\n",
    "    y_pred=[]\n",
    "\n",
    "    ## Loop over all the test set and perform the three steps\n",
    "    for x_test_point in x_test:\n",
    "      distance_point  = distance_ecu(x_train, x_test_point)  ## Step 1\n",
    "      df_nearest_point= nearest_neighbors(distance_point, K)  ## Step 2\n",
    "      y_pred_point    = voting(df_nearest_point, y_train) ## Step 3\n",
    "      y_pred.append(y_pred_point)\n",
    "\n",
    "    return y_pred  \n"
   ]
  },
  {
   "cell_type": "markdown",
   "id": "0c2ab10c",
   "metadata": {},
   "source": [
    "#Test the KNN Algorithm on the test dataset"
   ]
  },
  {
   "cell_type": "code",
   "execution_count": 22,
   "id": "36958005",
   "metadata": {},
   "outputs": [
    {
     "name": "stdout",
     "output_type": "stream",
     "text": [
      "[' Verginica', ' Versicolor', ' Setosa', ' Verginica', ' Setosa', ' Verginica', ' Setosa', ' Versicolor', ' Versicolor', ' Versicolor', ' Verginica', ' Versicolor', ' Versicolor', ' Versicolor', ' Versicolor', ' Setosa', ' Versicolor', ' Versicolor', ' Setosa', ' Setosa', ' Verginica', ' Versicolor', ' Setosa', ' Setosa', ' Verginica', ' Setosa', ' Setosa', ' Versicolor', ' Versicolor', ' Setosa']\n"
     ]
    }
   ],
   "source": [
    "K=3\n",
    "y_pred_scratch= KNN_from_scratch(normalized_x_train, y_train, normalized_x_test, K)\n",
    "print(y_pred_scratch)"
   ]
  },
  {
   "cell_type": "markdown",
   "id": "443f4b26",
   "metadata": {},
   "source": [
    "#Compare our implementation with Sklearn library"
   ]
  },
  {
   "cell_type": "code",
   "execution_count": 23,
   "id": "da41f217",
   "metadata": {},
   "outputs": [
    {
     "name": "stdout",
     "output_type": "stream",
     "text": [
      "[' Verginica' ' Versicolor' ' Setosa' ' Verginica' ' Setosa' ' Verginica'\n",
      " ' Setosa' ' Versicolor' ' Versicolor' ' Versicolor' ' Verginica'\n",
      " ' Versicolor' ' Versicolor' ' Versicolor' ' Versicolor' ' Setosa'\n",
      " ' Versicolor' ' Versicolor' ' Setosa' ' Setosa' ' Verginica'\n",
      " ' Versicolor' ' Setosa' ' Setosa' ' Verginica' ' Setosa' ' Setosa'\n",
      " ' Versicolor' ' Versicolor' ' Setosa']\n"
     ]
    }
   ],
   "source": [
    "knn=KNeighborsClassifier(K)\n",
    "knn.fit(normalized_x_train, y_train)\n",
    "y_pred_sklearn= knn.predict(normalized_x_test)\n",
    "print(y_pred_sklearn)"
   ]
  },
  {
   "cell_type": "markdown",
   "id": "163b99ed",
   "metadata": {},
   "source": [
    "#Check if the output is exactly the same"
   ]
  },
  {
   "cell_type": "code",
   "execution_count": 24,
   "id": "096ea2ca",
   "metadata": {},
   "outputs": [
    {
     "name": "stdout",
     "output_type": "stream",
     "text": [
      "True\n"
     ]
    }
   ],
   "source": [
    "print(np.array_equal(y_pred_sklearn, y_pred_scratch))"
   ]
  },
  {
   "cell_type": "markdown",
   "id": "ca69cf43",
   "metadata": {},
   "source": [
    "#Calculate the accuracy of both methods"
   ]
  },
  {
   "cell_type": "code",
   "execution_count": 25,
   "id": "95d7355a",
   "metadata": {},
   "outputs": [
    {
     "name": "stdout",
     "output_type": "stream",
     "text": [
      "The accuracy of our implementation is 1.0\n",
      "The accuracy of sklearn implementation is 1.0\n"
     ]
    }
   ],
   "source": [
    "print(f'The accuracy of our implementation is {accuracy_score(y_test, y_pred_scratch)}')\n",
    "print(f'The accuracy of sklearn implementation is {accuracy_score(y_test, y_pred_sklearn)}')"
   ]
  },
  {
   "cell_type": "code",
   "execution_count": 26,
   "id": "244fe9cf",
   "metadata": {},
   "outputs": [],
   "source": [
    "n_splits= 4 ## Choose the number of splits\n",
    "kf= KFold(n_splits= n_splits) ## Call the K Fold function\n",
    "\n",
    "accuracy_k= [] ## Keep track of the accuracy for each K\n",
    "k_values= list(range(1,30,2)) ## Search for the best value of K\n",
    "\n",
    "for k in k_values: ## Loop over the K values\n",
    "  accuracy_fold= 0\n",
    "  for normalized_x_train_fold_idx, normalized_x_valid_fold_idx in  kf.split(normalized_x_train): ## Loop over the splits\n",
    "      normalized_x_train_fold= normalized_x_train[normalized_x_train_fold_idx] ## fetch the values\n",
    "      y_train_fold= y_train[normalized_x_train_fold_idx]\n",
    "\n",
    "      normalized_x_test_fold= normalized_x_train[normalized_x_valid_fold_idx]\n",
    "      y_valid_fold= y_train[normalized_x_valid_fold_idx]\n",
    "      y_pred_fold= KNN_from_scratch(normalized_x_train_fold, y_train_fold, normalized_x_test_fold, k)\n",
    "\n",
    "      accuracy_fold+= accuracy_score (y_pred_fold, y_valid_fold) ## Accumulate the accuracy\n",
    "  accuracy_fold= accuracy_fold/ n_splits ## Divide by the number of splits\n",
    "  accuracy_k.append(accuracy_fold)\n",
    "\n",
    "  "
   ]
  },
  {
   "cell_type": "code",
   "execution_count": 27,
   "id": "7bc6a063",
   "metadata": {},
   "outputs": [
    {
     "name": "stdout",
     "output_type": "stream",
     "text": [
      "The accuracy for each K value was [(0.9916666666666667, 1), (0.9916666666666667, 3), (0.9833333333333334, 5), (0.9833333333333334, 7), (0.9833333333333334, 9), (0.9833333333333334, 11), (0.9833333333333334, 13), (0.9833333333333334, 15), (0.9833333333333334, 17), (0.9833333333333334, 19), (0.9833333333333334, 21), (0.975, 23), (0.975, 25), (0.975, 27), (0.975, 29)]\n"
     ]
    }
   ],
   "source": [
    "print(f'The accuracy for each K value was {list ( zip (accuracy_k, k_values))}')"
   ]
  },
  {
   "cell_type": "code",
   "execution_count": 28,
   "id": "721c2ca6",
   "metadata": {},
   "outputs": [
    {
     "name": "stdout",
     "output_type": "stream",
     "text": [
      "Best accuracy was 0.9916666666666667, which corresponds to a value of K= 1\n"
     ]
    }
   ],
   "source": [
    "print(f'Best accuracy was {np.max(accuracy_k)}, which corresponds to a value of K= {k_values[np.argmax(accuracy_k)]}')"
   ]
  },
  {
   "cell_type": "code",
   "execution_count": null,
   "id": "c982eb0a",
   "metadata": {},
   "outputs": [],
   "source": []
  }
 ],
 "metadata": {
  "kernelspec": {
   "display_name": "Python 3 (ipykernel)",
   "language": "python",
   "name": "python3"
  },
  "language_info": {
   "codemirror_mode": {
    "name": "ipython",
    "version": 3
   },
   "file_extension": ".py",
   "mimetype": "text/x-python",
   "name": "python",
   "nbconvert_exporter": "python",
   "pygments_lexer": "ipython3",
   "version": "3.9.7"
  }
 },
 "nbformat": 4,
 "nbformat_minor": 5
}
